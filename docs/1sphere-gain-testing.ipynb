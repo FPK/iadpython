{
 "cells": [
  {
   "cell_type": "markdown",
   "id": "b6efbaae-e128-45d3-869e-16219835ee3a",
   "metadata": {},
   "source": [
    "# Validation of Gain with Monte Carlo\n",
    "\n",
    "**Scott Prahl**\n",
    "\n",
    "**June 2024**\n",
    "\n",
    "This notebook compares the calculated gain values against those from a Monte Carlo simulation of light bouncing in spheres."
   ]
  },
  {
   "cell_type": "code",
   "execution_count": 1,
   "id": "c6b45214-556a-4946-a5a8-f4065c6c5201",
   "metadata": {},
   "outputs": [],
   "source": [
    "import numpy as np\n",
    "import matplotlib.pyplot as plt\n",
    "import matplotlib.gridspec as gridspec\n",
    "import scipy.stats as stats\n",
    "\n",
    "import iadpython\n",
    "%config InlineBackend.figure_format='retina'\n",
    "\n",
    "def p_value(x, x_std_err, y):\n",
    "    \"\"\"p-value that x matches known y.\"\"\"\n",
    "    # Calculate the z-score\n",
    "    z_score = (y - x) / x_std_err\n",
    "    \n",
    "    # Calculate the probability from the z-score\n",
    "    p = 2 * (1 - stats.norm.cdf(abs(z_score)))\n",
    "\n",
    "    return p\n",
    "\n",
    "def calculate_confidence_interval(data, confidence=0.90):\n",
    "    n = len(data)\n",
    "    mean = np.mean(data)\n",
    "    std_dev = np.std(data, ddof=1)  # ddof=1 returns the sample standard deviation\n",
    "    std_err = std_dev / np.sqrt(n)\n",
    "    \n",
    "    # Find the critical value for the 90% confidence interval\n",
    "    t_critical = stats.t.ppf((1 + confidence) / 2, df=n-1)\n",
    "    \n",
    "    margin_of_error = t_critical * std_err\n",
    "    confidence_interval = (mean - margin_of_error, mean + margin_of_error)\n",
    "    \n",
    "    return mean, confidence_interval\n",
    "\n",
    "def test_gain(s, N=100000):\n",
    "    analytic_gain = s.gain()\n",
    "    \n",
    "    gains, _ = s.do_N_photons_gain_array(N, num_trials=20)\n",
    "    _, ci = calculate_confidence_interval(gains)\n",
    "    \n",
    "    status = 'bad'\n",
    "    if ci[0] <= analytic_gain <= ci[1]:\n",
    "        status = 'good'\n",
    "\n",
    "    print(\"upper 90%% ci       = %.3f\" % ci[1])\n",
    "    print(\"analytic gain      = %.3f (%s)\" % (analytic_gain, status))\n",
    "    print(\"lower 90%% ci       = %.3f\" % ci[0])\n",
    "    \n",
    "def default_sphere():\n",
    "    R = 30\n",
    "    d_sphere = 2 * R\n",
    "    d_sample = 20\n",
    "    d_third = 15\n",
    "    d_detector = 10\n",
    "    s = iadpython.Sphere(d_sphere, d_sample, d_third=d_third, d_detector=d_detector, \n",
    "                         r_detector=0.5, r_wall=0.75, r_std=0.8)\n",
    "    return s"
   ]
  },
  {
   "cell_type": "markdown",
   "id": "0a006eb4-7dc8-43db-8bab-76f80e383d9b",
   "metadata": {},
   "source": [
    "## Check no baffle calculations"
   ]
  },
  {
   "cell_type": "code",
   "execution_count": 2,
   "id": "09feed6a-69ff-453e-8c7d-63ba85ed32f9",
   "metadata": {},
   "outputs": [
    {
     "name": "stdout",
     "output_type": "stream",
     "text": [
      "Sphere: d=100.00, r_wall= 75.0%, r_std= 80.0%, baffle= False\n",
      "    Sample: d= 30.0mm, uru= 60.0%\n",
      "     Third: d= 20.0mm, uru= 80.0%\n",
      "  Detector: d= 18.0mm, uru= 50.0%\n",
      "\n",
      "upper 90% ci       = 4.096\n",
      "analytic gain      = 3.923 (good)\n",
      "lower 90% ci       = 3.911\n"
     ]
    }
   ],
   "source": [
    "R = 50\n",
    "d_sphere = 2 * R\n",
    "d_sample = 30\n",
    "d_third = 20\n",
    "d_detector = 18\n",
    "s = iadpython.Sphere(d_sphere, d_sample, d_third=d_third, d_detector=d_detector, \n",
    "                     r_detector=0.5, r_wall=0.75, r_std=0.8)\n",
    "s.sample.uru = 0.6\n",
    "s.third.uru = 0.8\n",
    "s.baffle = False\n",
    "print(repr(s))\n",
    "test_gain(s)"
   ]
  },
  {
   "cell_type": "code",
   "execution_count": 3,
   "id": "04283e84-256b-44fb-9d58-91a98211a104",
   "metadata": {},
   "outputs": [
    {
     "name": "stdout",
     "output_type": "stream",
     "text": [
      "Sphere: d=100.00, r_wall= 75.0%, r_std= 80.0%, baffle= True\n",
      "    Sample: d= 30.0mm, uru= 60.0%\n",
      "     Third: d= 20.0mm, uru= 80.0%\n",
      "  Detector: d= 18.0mm, uru= 50.0%\n",
      "\n",
      "upper 90% ci       = 3.915\n",
      "analytic gain      = 3.857 (good)\n",
      "lower 90% ci       = 3.739\n"
     ]
    }
   ],
   "source": [
    "s.baffle = True\n",
    "print(repr(s))\n",
    "test_gain(s)"
   ]
  },
  {
   "cell_type": "code",
   "execution_count": 4,
   "id": "e712de40-c203-4ef8-bbd1-9eca52c14935",
   "metadata": {},
   "outputs": [
    {
     "name": "stdout",
     "output_type": "stream",
     "text": [
      "case 1, third = empty, sample = empty, no baffle\n",
      "Sphere: d=60.00, r_wall= 75.0%, r_std= 80.0%, baffle= False\n",
      "    Sample: d= 20.0mm, uru=  0.0%\n",
      "     Third: d= 15.0mm, uru=  0.0%\n",
      "  Detector: d= 10.0mm, uru= 50.0%\n",
      "\n",
      "upper 90% ci       = 3.709\n",
      "analytic gain      = 3.518 (good)\n",
      "lower 90% ci       = 3.476\n",
      "\n",
      "case 2, third = empty, sample = 50%, no baffle\n",
      "Sphere: d=60.00, r_wall= 75.0%, r_std= 80.0%, baffle= False\n",
      "    Sample: d= 20.0mm, uru= 50.0%\n",
      "     Third: d= 15.0mm, uru=  0.0%\n",
      "  Detector: d= 10.0mm, uru= 50.0%\n",
      "\n",
      "upper 90% ci       = 3.926\n",
      "analytic gain      = 3.698 (bad)\n",
      "lower 90% ci       = 3.709\n",
      "\n",
      "case 3, third = 95%, sample = 50%, no baffle\n",
      "Sphere: d=60.00, r_wall= 75.0%, r_std= 80.0%, baffle= False\n",
      "    Sample: d= 20.0mm, uru= 50.0%\n",
      "     Third: d= 15.0mm, uru= 95.0%\n",
      "  Detector: d= 10.0mm, uru= 50.0%\n",
      "\n",
      "upper 90% ci       = 4.108\n",
      "analytic gain      = 3.913 (good)\n",
      "lower 90% ci       = 3.876\n"
     ]
    }
   ],
   "source": [
    "print('case 1, third = empty, sample = empty, no baffle')\n",
    "s = default_sphere()\n",
    "s.sample.uru = 0.0\n",
    "s.third.uru = 0.00\n",
    "print(repr(s))\n",
    "test_gain(s)\n",
    "print()\n",
    "\n",
    "print('case 2, third = empty, sample = 50%, no baffle')\n",
    "s = default_sphere()\n",
    "s.sample.uru = 0.5\n",
    "s.third.uru = 0.0\n",
    "print(repr(s))\n",
    "test_gain(s)\n",
    "print()\n",
    "\n",
    "print('case 3, third = 95%, sample = 50%, no baffle')\n",
    "s = default_sphere()\n",
    "s.sample.uru = 0.5\n",
    "s.third.uru = 0.95\n",
    "print(repr(s))\n",
    "test_gain(s)\n"
   ]
  },
  {
   "cell_type": "code",
   "execution_count": 5,
   "id": "d0d3dff4-0935-45c9-b8c8-86d9155f589f",
   "metadata": {},
   "outputs": [
    {
     "name": "stdout",
     "output_type": "stream",
     "text": [
      "case 1, third = empty, sample = empty, baffle\n",
      "Sphere: d=60.00, r_wall= 75.0%, r_std= 80.0%, baffle= True\n",
      "    Sample: d= 20.0mm, uru=  0.0%\n",
      "     Third: d= 15.0mm, uru=  0.0%\n",
      "  Detector: d= 10.0mm, uru= 50.0%\n",
      "\n",
      "upper 90% ci       = 3.633\n",
      "analytic gain      = 3.506 (bad)\n",
      "lower 90% ci       = 3.512\n",
      "\n",
      "case 2, third = empty, sample = 50%, baffle\n",
      "Sphere: d=60.00, r_wall= 75.0%, r_std= 80.0%, baffle= True\n",
      "    Sample: d= 20.0mm, uru= 50.0%\n",
      "     Third: d= 15.0mm, uru=  0.0%\n",
      "  Detector: d= 10.0mm, uru= 50.0%\n",
      "\n",
      "upper 90% ci       = 3.776\n",
      "analytic gain      = 3.637 (good)\n",
      "lower 90% ci       = 3.554\n",
      "\n",
      "case 3, third = 95%, sample = 50%, baffle\n",
      "Sphere: d=60.00, r_wall= 75.0%, r_std= 80.0%, baffle= True\n",
      "    Sample: d= 20.0mm, uru= 50.0%\n",
      "     Third: d= 15.0mm, uru= 95.0%\n",
      "  Detector: d= 10.0mm, uru= 50.0%\n",
      "\n",
      "upper 90% ci       = 4.011\n",
      "analytic gain      = 3.849 (good)\n",
      "lower 90% ci       = 3.796\n"
     ]
    }
   ],
   "source": [
    "print('case 1, third = empty, sample = empty, baffle')\n",
    "s = default_sphere()\n",
    "s.baffle=True\n",
    "s.sample.uru = 0.0\n",
    "s.third.uru = 0.00\n",
    "print(repr(s))\n",
    "test_gain(s)\n",
    "print()\n",
    "\n",
    "print('case 2, third = empty, sample = 50%, baffle')\n",
    "s = default_sphere()\n",
    "s.baffle=True\n",
    "s.sample.uru = 0.5\n",
    "s.third.uru = 0.0\n",
    "print(repr(s))\n",
    "test_gain(s)\n",
    "print()\n",
    "\n",
    "print('case 3, third = 95%, sample = 50%, baffle')\n",
    "s = default_sphere()\n",
    "s.baffle=True\n",
    "s.sample.uru = 0.5\n",
    "s.third.uru = 0.95\n",
    "print(repr(s))\n",
    "test_gain(s)"
   ]
  },
  {
   "cell_type": "code",
   "execution_count": 6,
   "id": "eb8e7898-b508-425b-8be0-2c2c72bd4301",
   "metadata": {},
   "outputs": [
    {
     "name": "stdout",
     "output_type": "stream",
     "text": [
      "case 3, third = 95%, sample = 50%, baffle\n",
      "Sphere: d=60.00, r_wall= 75.0%, r_std= 80.0%, baffle= True\n",
      "    Sample: d= 20.0mm, uru= 95.0%\n",
      "     Third: d= 15.0mm, uru= 25.0%\n",
      "  Detector: d= 10.0mm, uru= 50.0%\n",
      "\n",
      "upper 90% ci       = 3.983\n",
      "analytic gain      = 3.821 (good)\n",
      "lower 90% ci       = 3.817\n"
     ]
    }
   ],
   "source": [
    "print('case 3, third = 95%, sample = 50%, baffle')\n",
    "s = default_sphere()\n",
    "s.baffle=True\n",
    "s.sample.uru = 0.95\n",
    "s.third.uru = 0.25\n",
    "print(repr(s))\n",
    "test_gain(s)"
   ]
  }
 ],
 "metadata": {
  "kernelspec": {
   "display_name": "Python 3 (ipykernel)",
   "language": "python",
   "name": "python3"
  },
  "language_info": {
   "codemirror_mode": {
    "name": "ipython",
    "version": 3
   },
   "file_extension": ".py",
   "mimetype": "text/x-python",
   "name": "python",
   "nbconvert_exporter": "python",
   "pygments_lexer": "ipython3",
   "version": "3.12.3"
  }
 },
 "nbformat": 4,
 "nbformat_minor": 5
}
