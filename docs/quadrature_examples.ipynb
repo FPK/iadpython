{
 "cells": [
  {
   "cell_type": "code",
   "execution_count": 1,
   "metadata": {},
   "outputs": [],
   "source": [
    "import numpy as np\n",
    "import matplotlib.pyplot as plt\n",
    "import iadpython.quadrature"
   ]
  },
  {
   "cell_type": "markdown",
   "metadata": {},
   "source": [
    "# Adding-Doubling and Quadrature\n",
    "\n",
    "The adding-doubling method is based on numerical integration\n",
    "of functions using quadrature,\n",
    "$$\n",
    "\\int_0^1 f(\\nu,\\nu') \\, d\\nu' = \\sum_{i=1}^{N} w_i f(x_i)\n",
    "$$\n",
    "The values of the quadrature points $x_i$ and the weights\n",
    "$w_i$ are chosen in such a way that the integral is evaluated\n",
    "exactly for a polynomial of order $2N-1$ (or possibly $2N-2$ depending\n",
    "on the quadrature method).  Using $N$ quadrature points (Gaussian)\n",
    "is equivalent to the spherical harmonic method of order $P_{N-1}$,\n",
    "i.e. four quadrature points corresponds to the $P_3$\n",
    "method.  The specific choice of quadrature methods for samples\n",
    "with mismatched boundaries is described in the next section.\n",
    "\n",
    "Total internal reflection causes problems by changing the effective\n",
    "range of integration. Usually, adding-doubling integrals range from\n",
    "$0$ to $1$, since the angle varies from ${\\pi\\over2}$ to $0$ and\n",
    "therefore the cosine varies from $0$ to $1$. The integrations are\n",
    "calculated using numerical quadrature, and the quadrature angles are\n",
    "optimized for this range. If the cosine of the critical angle is\n",
    "denoted by $\\nu_c$ for a boundary layer with total internal\n",
    "reflection, then the effective range of integration is reduced to\n",
    "$\\nu_c$ to $1$ (because the rest of the integration range is now\n",
    "zero). To maintain integration accuracy, the integral is broken into\n",
    "two parts and each is evaluated by quadrature over the specified\n",
    "subrange,\n",
    "$$\n",
    "\\int_0^1A(\\nu,\\nu') B(\\nu',\\nu'')\\,d\\nu'  =\n",
    "          \\int_0^{\\nu_c}A(\\nu,\\nu') B(\\nu',\\nu'')\\,d\\nu' +\n",
    "             \\int_{\\nu_c}^1 A(\\nu,\\nu') B(\\nu',\\nu'')\\,d\\nu' .\n",
    "$$\n",
    "Here $A(\\nu,\\nu')$ and $B(\\nu,\\nu')$ represent reflection or\n",
    "transmission functions, and clearly if either is identically\n",
    "zero for values of $\\nu$ less than $\\nu_c$, the integration range is\n",
    "reduced. \n",
    "\n",
    "Each integral is handled with a different quadrature scheme.  Specifically the\n",
    "calculations used Gaussian quadrature for integrals\n",
    "over the range from $0$ to $\\nu_c$, thereby avoiding\n",
    "calculations at both endpoints (in particular, the angle $\\nu=0$ is\n",
    "avoided, which may cause division by zero). \n",
    "\n",
    "Radau quadrature \n",
    "is used for the range from $\\nu_c$ to $1$, so $\\nu=1$ could be \n",
    "specified as a quadrature point.  Each part of the\n",
    "integration range gets half of the quadrature points; when no critical\n",
    "angle exists, Radau quadrature is used over the entire range.\n",
    "\n"
   ]
  },
  {
   "cell_type": "markdown",
   "metadata": {},
   "source": [
    "## Standard Gaussian-Legendre Quadrature\n",
    "\n",
    "$$\n",
    "\\int _{-1}^{1}f(x)\\,dx\\approx \\sum _{i=1}^{n}w_{i}f(x_{i})\n",
    "$$\n",
    "\n",
    "Gauss nodes $x_i$ are the roots of the nth Legendre polynomial $P_n(x)$.  The weights $w_i$ are\n",
    "$$\n",
    "w_i = \\frac{1}{(1-x_i^2)[P_n'(x_i)]^2}\n",
    "$$"
   ]
  },
  {
   "cell_type": "code",
   "execution_count": 2,
   "metadata": {},
   "outputs": [],
   "source": [
    "n=8\n",
    "xi, wi = iadpython.quadrature.gauss(n)"
   ]
  },
  {
   "cell_type": "code",
   "execution_count": 3,
   "metadata": {},
   "outputs": [
    {
     "name": "stdout",
     "output_type": "stream",
     "text": [
      " i        xi calc         xi ref            wi calc         wi ref\n",
      "----------------------------------------------------------------------\n",
      " 0   -0.960289856498 +0.960289856498   +0.101228536290 +0.101228536290\n",
      " 1   -0.796666477414 +0.796666477414   +0.222381034453 +0.222381034453\n",
      " 2   -0.525532409916 +0.525532409916   +0.313706645878 +0.313706645878\n",
      " 3   -0.183434642496 +0.183434642496   +0.362683783378 +0.362683783378\n",
      " 4   +0.183434642496 -0.183434642496   +0.362683783378 +0.362683783378\n",
      " 5   +0.525532409916 -0.525532409916   +0.313706645878 +0.313706645878\n",
      " 6   +0.796666477414 -0.796666477414   +0.222381034453 +0.222381034453\n",
      " 7   +0.960289856498 -0.960289856498   +0.101228536290 +0.101228536290\n"
     ]
    }
   ],
   "source": [
    "xx=np.empty(8)\n",
    "ww=np.empty(8)\n",
    "xx[4]=-0.1834346424956498\n",
    "xx[3]=0.1834346424956498\n",
    "xx[5]=-0.5255324099163290\n",
    "xx[2]=0.5255324099163290\n",
    "xx[6]=-0.7966664774136267\n",
    "xx[1]=0.7966664774136267\n",
    "xx[7]=-0.9602898564975363\n",
    "xx[0]=0.9602898564975363\n",
    "\n",
    "ww[4]=0.3626837833783620\n",
    "ww[3]=0.3626837833783620\n",
    "ww[5]=0.3137066458778873\n",
    "ww[2]=0.3137066458778873\n",
    "ww[6]=0.2223810344533745\n",
    "ww[1]=0.2223810344533745\n",
    "ww[7]=0.1012285362903763\n",
    "ww[0]=0.1012285362903763\n",
    "\n",
    "print(\" i        xi calc         xi ref            wi calc         wi ref\")\n",
    "print(\"----------------------------------------------------------------------\")\n",
    "for i,x in enumerate(xi):\n",
    "    print(\"%2d   %+.12f %+.12f   %+.12f %+.12f\" % (i, x, xx[i], wi[i], ww[i]))"
   ]
  },
  {
   "cell_type": "code",
   "execution_count": 4,
   "metadata": {},
   "outputs": [
    {
     "data": {
      "image/png": "[encoded data removed]",
      "text/plain": [
       "<Figure size 432x288 with 1 Axes>"
      ]
     },
     "metadata": {
      "needs_background": "light"
     },
     "output_type": "display_data"
    }
   ],
   "source": [
    "x = np.linspace(-1+1e-10, 1-1e-10, 300)\n",
    "plt.plot(x, iadpython.quadrature.gauss_func(n, x))\n",
    "plt.plot(xi, iadpython.quadrature.gauss_func(n, xi), \"o\")\n",
    "plt.ylim(-0.5,0.5)\n",
    "plt.xlabel(\"x\")\n",
    "plt.ylabel('$P_n(x)$')\n",
    "plt.title('Location of Gaussian Quadrature Points')\n",
    "plt.show()"
   ]
  },
  {
   "cell_type": "code",
   "execution_count": 5,
   "metadata": {},
   "outputs": [
    {
     "name": "stdout",
     "output_type": "stream",
     "text": [
      "117667.2857142855\n",
      "117667.28571428571\n"
     ]
    }
   ],
   "source": [
    "n=8\n",
    "xi, wi = iadpython.quadrature.gauss(n,-7,2)\n",
    "\n",
    "# integral of x^6 from 0 to 2 should be (x^7)/7\n",
    "\n",
    "quad_int = np.sum(xi**6 * wi)\n",
    "anal_int = (2)**7 / 7 - (-7)**7 / 7\n",
    "\n",
    "print(quad_int)\n",
    "print(anal_int)\n"
   ]
  },
  {
   "cell_type": "markdown",
   "metadata": {},
   "source": [
    "## Gauss-Radau Quadrature\n",
    "\n",
    "Radau quadrature is a  Gaussian Quadrature-like formula for numerical estimation of integrals. It requires $m+1$ points and fits all Polynomials to degree $2m$, so it effectively fits exactly all Polynomials of degree $2m-1$. It uses a weighting Function $w(x)=1$ in which the endpoint $-1$ in the interval $[-1,1]$ is included in a total of $n$ Abscissas, giving $r=n-1$ free abscissas. The general formula is \n",
    "$$\n",
    "\\int_{-1}^1 f(x) \\,dx \\approx w_1 f(x_1) + \\sum_{i=2}^{n} w_i f(x_i)\n",
    "$$\n",
    "\n",
    "The nodes $x_i$ are given by the $n$ roots of the following equation are needed\n",
    "$$\n",
    "P_{n-1}(x_i) + \\frac{x_i-1}{n} P_{n-1}'(x_i) =0\n",
    "$$\n",
    "Here $P_n(x)$ is the $n$th Legendre polynomial of order zero and\n",
    "$P_{n-1}'(x_i)$ is the first derivative of the $n-1$ Legendre polynomial.\n",
    "These roots are the required quadrature points for the integration range $-1$ to $1$.   The $n$th integration angle $\\nu_n$ corresponds with $x_n=-1$ (normal\n",
    "incidence).\n",
    "\n",
    "The weights $w_i=w(x_i)$ are\n",
    "$$\n",
    "w_i = \\frac{1}{(1-x)[P_n'(x_i)]^2}\n",
    "$$\n",
    "with\n",
    "$$\n",
    "w_0 = \\frac{2}{n^2}\n",
    "$$\n",
    "\n",
    "Now for adding doubling calculations, we want the other endpoint of the interval to be fixed --- so that \n",
    "\n",
    "The code to scale values is easy.  Radau quadrature is\n",
    "defined over the range -1 to 1.  Here we just linearly scale\n",
    "the width of each interval and weight as appropriate.\n",
    "To modify for the range $\\nu_c$ to $1$ the following relations are\n",
    "needed to find the necessary integration angles  $\\nu_i$ and weights $w_i$ \n",
    "$$\n",
    "\\nu_i = {1+\\nu_c - (1-\\nu_c) x_i \\over 2}\n",
    "$$\n",
    "and\n",
    "$$\n",
    "w_i=   {1-\\nu_ c\\over (1-x_i) \\sqrt{P_{n-1}'(x_i)}}\n",
    "$$"
   ]
  },
  {
   "cell_type": "code",
   "execution_count": 6,
   "metadata": {},
   "outputs": [],
   "source": [
    "n=8\n",
    "xi, wi = iadpython.quadrature.radau(n)"
   ]
  },
  {
   "cell_type": "code",
   "execution_count": 7,
   "metadata": {},
   "outputs": [
    {
     "name": "stdout",
     "output_type": "stream",
     "text": [
      " i        xi calc         xi ref            wi calc         wi ref\n",
      "----------------------------------------------------------------------\n",
      " 0   -0.955041227123 +0.955041227123   +0.114508814744 +0.114508814744\n",
      " 1   -0.770641893678 +0.770641893678   +0.249647901330 +0.249647901330\n",
      " 2   -0.468420354431 +0.468420354431   +0.347014795635 +0.347014795635\n",
      " 3   -0.094307252661 +0.094307252661   +0.391572167452 +0.391572167452\n",
      " 4   +0.294750565774 -0.294750565774   +0.376517545389 +0.376517545389\n",
      " 5   +0.639518616526 -0.639518616526   +0.304130620648 +0.304130620647\n",
      " 6   +0.887474878926 -0.887474878926   +0.185358154809 +0.185358154803\n",
      " 7   +1.000000000000 -1.000000000000   +0.031250000000 +0.031250000000\n"
     ]
    }
   ],
   "source": [
    "xx=np.empty(8)\n",
    "ww=np.empty(8)\n",
    "xx[7]= -1\n",
    "xx[6]=-0.8874748789261557\n",
    "xx[5]=-0.6395186165262152 \n",
    "xx[4]=-0.2947505657736607\n",
    "xx[3]= 0.0943072526611108 \n",
    "xx[2]= 0.4684203544308211\n",
    "xx[1]= 0.7706418936781916\n",
    "xx[0]= 0.9550412271225750 \n",
    "\n",
    "ww[7]= 2/(8*8)\n",
    "ww[6]= 0.1853581548029793\n",
    "ww[5]= 0.3041306206467856 \n",
    "ww[4]= 0.3765175453891186 \n",
    "ww[3]= 0.3915721674524935 \n",
    "ww[2]= 0.3470147956345014 \n",
    "ww[1]= 0.2496479013298649 \n",
    "ww[0]= 0.1145088147442572 \n",
    "\n",
    "print(\" i        xi calc         xi ref            wi calc         wi ref\")\n",
    "print(\"----------------------------------------------------------------------\")\n",
    "for i,x in enumerate(xi):\n",
    "    print(\"%2d   %+.12f %+.12f   %+.12f %+.12f\" % (i, x, xx[i], wi[i], ww[i]))\n",
    "          "
   ]
  },
  {
   "cell_type": "code",
   "execution_count": 8,
   "metadata": {},
   "outputs": [
    {
     "data": {
      "image/png": "[encoded data removed]",
      "text/plain": [
       "<Figure size 432x288 with 1 Axes>"
      ]
     },
     "metadata": {
      "needs_background": "light"
     },
     "output_type": "display_data"
    }
   ],
   "source": [
    "eps = 1e-8\n",
    "x = np.linspace(-1+eps, 1-eps, 100)\n",
    "plt.plot(x, iadpython.quadrature.radau_func(n, x))\n",
    "plt.plot(xi[:-1], iadpython.quadrature.radau_func(n, xi[:-1]), \"o\")\n",
    "plt.ylim(-1.2,1.2)\n",
    "plt.xlabel(\"x\")\n",
    "plt.ylabel('$[P_{n-1}(x)+P_n(x)]/(1+x)$')\n",
    "plt.title('Location of Radau Quadrature Points')\n",
    "plt.show()"
   ]
  },
  {
   "cell_type": "code",
   "execution_count": 9,
   "metadata": {},
   "outputs": [
    {
     "name": "stdout",
     "output_type": "stream",
     "text": [
      "117667.28571431177\n",
      "117667.28571428571\n"
     ]
    }
   ],
   "source": [
    "n=8\n",
    "xi, wi = iadpython.quadrature.radau(n,-7,2)\n",
    "\n",
    "# integral of x^6 from 0 to 2 should be (x^7)/7\n",
    "\n",
    "quad_int = np.sum(xi**6 * wi)\n",
    "anal_int = (2)**7 / 7 - (-7)**7 / 7\n",
    "\n",
    "print(quad_int)\n",
    "print(anal_int)\n"
   ]
  },
  {
   "cell_type": "markdown",
   "metadata": {},
   "source": [
    "## Gauss-Lobatto Quadrature\n",
    "\n",
    "Gauss-Lobatto nodes are (except for the endpoints) the roots of $P'_{n−1}(x)$.\n",
    " "
   ]
  },
  {
   "cell_type": "code",
   "execution_count": 10,
   "metadata": {},
   "outputs": [],
   "source": [
    "n=8\n",
    "xi, wi = iadpython.quadrature.lobatto(n)"
   ]
  },
  {
   "cell_type": "code",
   "execution_count": 11,
   "metadata": {},
   "outputs": [
    {
     "name": "stdout",
     "output_type": "stream",
     "text": [
      " i        xi calc         xi ref            wi calc         wi ref\n",
      "----------------------------------------------------------------------\n",
      " 0   -1.000000000000 +1.000000000000   +0.035714285714 +0.035714285714\n",
      " 1   -0.871740148510 +0.871740148510   +0.210704227144 +0.210704227144\n",
      " 2   -0.591700181433 +0.591700181433   +0.341122692484 +0.341122692484\n",
      " 3   -0.209299217902 +0.209299217902   +0.412458794659 +0.412458794659\n",
      " 4   +0.209299217902 -0.209299217902   +0.412458794659 +0.412458794659\n",
      " 5   +0.591700181433 -0.591700181433   +0.341122692484 +0.341122692484\n",
      " 6   +0.871740148510 -0.871740148510   +0.210704227144 +0.210704227144\n",
      " 7   +1.000000000000 -1.000000000000   +0.035714285714 +0.035714285714\n"
     ]
    }
   ],
   "source": [
    "xx=np.empty(8)\n",
    "ww=np.empty(8)\n",
    "xx[7]=-1\n",
    "xx[6]=-0.8717401485096066153375\t\n",
    "xx[5]=-0.5917001814331423021445\t\n",
    "xx[4]=-0.2092992179024788687687\t\n",
    "xx[3]=0.2092992179024788687687\t\n",
    "xx[2]=0.5917001814331423021445\t\n",
    "xx[1]=0.8717401485096066153375\t\n",
    "xx[0]=1\t\n",
    "\n",
    "ww[7]=0.03571428571428571428571\n",
    "ww[6]=0.210704227143506039383\n",
    "ww[5]=0.3411226924835043647642\n",
    "ww[4]=0.4124587946587038815671\n",
    "ww[3]=0.412458794658703881567\n",
    "ww[2]=0.341122692483504364764\n",
    "ww[1]=0.210704227143506039383\n",
    "ww[0]=0.0357142857142857142857\n",
    "\n",
    "print(\" i        xi calc         xi ref            wi calc         wi ref\")\n",
    "print(\"----------------------------------------------------------------------\")\n",
    "for i,x in enumerate(xi):\n",
    "    print(\"%2d   %+.12f %+.12f   %+.12f %+.12f\" % (i, x, xx[i], wi[i], ww[i]))\n",
    "          "
   ]
  },
  {
   "cell_type": "code",
   "execution_count": 12,
   "metadata": {},
   "outputs": [
    {
     "data": {
      "image/png": "[encoded data removed]",
      "text/plain": [
       "<Figure size 432x288 with 1 Axes>"
      ]
     },
     "metadata": {
      "needs_background": "light"
     },
     "output_type": "display_data"
    }
   ],
   "source": [
    "eps = 1e-8\n",
    "x = np.linspace(-1+eps, 1-eps, 100)\n",
    "\n",
    "plt.plot(x, iadpython.quadrature.lobatto_func(n,x))\n",
    "plt.plot(xi[1:-1], iadpython.quadrature.lobatto_func(n,xi[1:-1]), \"o\")\n",
    "plt.ylim(-5,5)\n",
    "plt.xlabel(\"x\")\n",
    "plt.ylabel(\"$P_n'(x)$\")\n",
    "plt.title('Location of Lobatto Quadrature Points')\n",
    "plt.show()"
   ]
  },
  {
   "cell_type": "code",
   "execution_count": 13,
   "metadata": {},
   "outputs": [
    {
     "name": "stdout",
     "output_type": "stream",
     "text": [
      "4483791.000000299\n",
      "4483791.0\n"
     ]
    }
   ],
   "source": [
    "n=8\n",
    "xi, wi = iadpython.quadrature.lobatto(n,-7,2)\n",
    "\n",
    "# integral of x^8 is (x**9)/9\n",
    "\n",
    "quad_int = np.sum(xi**8 * wi)\n",
    "anal_int = (2)**9 / 9 - (-7)**9 / 9\n",
    "\n",
    "print(quad_int)\n",
    "print(anal_int)\n"
   ]
  },
  {
   "cell_type": "code",
   "execution_count": null,
   "metadata": {},
   "outputs": [],
   "source": []
  }
 ],
 "metadata": {
  "kernelspec": {
   "display_name": "Python 3",
   "language": "python",
   "name": "python3"
  },
  "language_info": {
   "codemirror_mode": {
    "name": "ipython",
    "version": 3
   },
   "file_extension": ".py",
   "mimetype": "text/x-python",
   "name": "python",
   "nbconvert_exporter": "python",
   "pygments_lexer": "ipython3",
   "version": "3.7.6"
  }
 },
 "nbformat": 4,
 "nbformat_minor": 4
}
