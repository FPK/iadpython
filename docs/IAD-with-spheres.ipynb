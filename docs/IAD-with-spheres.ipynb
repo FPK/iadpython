{
 "cells": [
  {
   "cell_type": "markdown",
   "metadata": {},
   "source": [
    "# IAD with Spheres\n",
    "\n",
    "**Scott Prahl**\n",
    "\n",
    "**March 2019**\n",
    "\n",
    "**version 1**\n",
    "\n",
    "A series of functionality tests to validate implementation of the influence of spheres on the inverse radiative transfer problem."
   ]
  },
  {
   "cell_type": "code",
   "execution_count": 1,
   "metadata": {},
   "outputs": [],
   "source": [
    "import numpy as np\n",
    "import matplotlib.pyplot as plt\n",
    "import iadpython"
   ]
  },
  {
   "cell_type": "markdown",
   "metadata": {},
   "source": [
    "## Checking imports\n",
    "\n",
    "Basic sanity check to validate that module was imported"
   ]
  },
  {
   "cell_type": "code",
   "execution_count": 2,
   "metadata": {},
   "outputs": [
    {
     "name": "stdout",
     "output_type": "stream",
     "text": [
      "Help on package iadpython:\n",
      "\n",
      "NAME\n",
      "    iadpython\n",
      "\n",
      "PACKAGE CONTENTS\n",
      "    ad\n",
      "    combine\n",
      "    fresnel\n",
      "    iad_util\n",
      "    iadc\n",
      "    perf_test\n",
      "    quadrature\n",
      "    redistribution\n",
      "    rxt\n",
      "    start\n",
      "    test_boundary\n",
      "    test_combo\n",
      "    test_fresnel\n",
      "    test_iadc\n",
      "    test_layer\n",
      "    test_quadrature\n",
      "    test_redistribution\n",
      "    test_start\n",
      "    test_ur1_uru\n",
      "\n",
      "DATA\n",
      "    AD_MAX_THICKNESS = 1000000.0\n",
      "\n",
      "FILE\n",
      "    /Users/prahl/Documents/Code/git/iadpython/iadpython/__init__.py\n",
      "\n",
      "\n"
     ]
    }
   ],
   "source": [
    "help(iadpython)"
   ]
  },
  {
   "cell_type": "markdown",
   "metadata": {},
   "source": [
    "## Verifying basic functionality of the objects"
   ]
  },
  {
   "cell_type": "code",
   "execution_count": 3,
   "metadata": {},
   "outputs": [
    {
     "name": "stdout",
     "output_type": "stream",
     "text": [
      "albedo            = 0.000\n",
      "optical thickness = 1.000\n",
      "anisotropy        = 0.000\n",
      "\n",
      "  n sample          = 1.0000\n",
      "  n top slide     = 1.0000\n",
      "  n bottom slide  = 1.0000\n",
      "\n",
      "d                 = 1.000 mm\n",
      "mu_a              = 1.000 /mm\n",
      "mu_s              = 0.000 /mm\n",
      "mu_s*(1-g)        = 0.000 /mm\n",
      "Light angles\n",
      " cos(theta incident) = 1.00000\n",
      "      theta incident = 0.0°\n",
      " cos(theta critical) = 0.00000\n",
      "      theta critical = 90.0°\n",
      "\n",
      "[0, 1, 0, 1.0, 1]\n"
     ]
    }
   ],
   "source": [
    "ss = iadpython.Sample()\n",
    "print(ss)\n",
    "print(ss.as_array())"
   ]
  },
  {
   "cell_type": "code",
   "execution_count": 4,
   "metadata": {
    "scrolled": true
   },
   "outputs": [
    {
     "ename": "AttributeError",
     "evalue": "module 'iadpython' has no attribute 'Sphere'",
     "output_type": "error",
     "traceback": [
      "\u001b[0;31m---------------------------------------------------------------------------\u001b[0m",
      "\u001b[0;31mAttributeError\u001b[0m                            Traceback (most recent call last)",
      "\u001b[0;32m<ipython-input-4-842f73ebad17>\u001b[0m in \u001b[0;36m<module>\u001b[0;34m\u001b[0m\n\u001b[0;32m----> 1\u001b[0;31m \u001b[0mrs\u001b[0m \u001b[0;34m=\u001b[0m \u001b[0miadpython\u001b[0m\u001b[0;34m.\u001b[0m\u001b[0mSphere\u001b[0m\u001b[0;34m(\u001b[0m\u001b[0;34m)\u001b[0m\u001b[0;34m\u001b[0m\u001b[0;34m\u001b[0m\u001b[0m\n\u001b[0m\u001b[1;32m      2\u001b[0m \u001b[0mts\u001b[0m \u001b[0;34m=\u001b[0m \u001b[0miadpython\u001b[0m\u001b[0;34m.\u001b[0m\u001b[0mSphere\u001b[0m\u001b[0;34m(\u001b[0m\u001b[0;34m)\u001b[0m\u001b[0;34m\u001b[0m\u001b[0;34m\u001b[0m\u001b[0m\n\u001b[1;32m      3\u001b[0m \u001b[0mts\u001b[0m\u001b[0;34m.\u001b[0m\u001b[0md_sphere\u001b[0m \u001b[0;34m=\u001b[0m \u001b[0;36m6\u001b[0m \u001b[0;34m*\u001b[0m \u001b[0;36m25.4\u001b[0m\u001b[0;34m\u001b[0m\u001b[0;34m\u001b[0m\u001b[0m\n\u001b[1;32m      4\u001b[0m \u001b[0;34m\u001b[0m\u001b[0m\n\u001b[1;32m      5\u001b[0m \u001b[0mprint\u001b[0m\u001b[0;34m(\u001b[0m\u001b[0mrs\u001b[0m\u001b[0;34m)\u001b[0m\u001b[0;34m\u001b[0m\u001b[0;34m\u001b[0m\u001b[0m\n",
      "\u001b[0;31mAttributeError\u001b[0m: module 'iadpython' has no attribute 'Sphere'"
     ]
    }
   ],
   "source": [
    "rs = iadpython.Sphere()\n",
    "ts = iadpython.Sphere()\n",
    "ts.d_sphere = 6 * 25.4\n",
    "\n",
    "print(rs)\n",
    "print(rs.as_array())\n",
    "print(ts)\n",
    "print(ts.as_array())"
   ]
  },
  {
   "cell_type": "code",
   "execution_count": null,
   "metadata": {
    "scrolled": true
   },
   "outputs": [],
   "source": [
    "ilum = iadpython.Illumination()\n",
    "print(ilum)\n",
    "print(ilum.as_array())"
   ]
  },
  {
   "cell_type": "code",
   "execution_count": null,
   "metadata": {
    "scrolled": true
   },
   "outputs": [],
   "source": [
    "m = iadpython.Measurement()\n",
    "print(m)\n",
    "print(m.as_array())"
   ]
  },
  {
   "cell_type": "code",
   "execution_count": null,
   "metadata": {},
   "outputs": [],
   "source": [
    "aa = iadpython.Analysis()\n",
    "print(aa)\n",
    "print(aa.as_array())"
   ]
  },
  {
   "cell_type": "code",
   "execution_count": null,
   "metadata": {},
   "outputs": [],
   "source": [
    "e = iadpython.Experiment()\n",
    "print(e)"
   ]
  },
  {
   "cell_type": "markdown",
   "metadata": {},
   "source": [
    "## Testing the inversion process\n",
    "\n",
    "### First validate that changing one thing works"
   ]
  },
  {
   "cell_type": "code",
   "execution_count": null,
   "metadata": {},
   "outputs": [],
   "source": [
    "e = iadpython.Experiment()\n",
    "a,b,g = e.invert()\n",
    "print(\"With num_spheres = %d\" % e.illumination.num_spheres)\n",
    "print(\"    mu_s = %.3f/mm\" % (a*b/e.sample.sample_thickness))\n",
    "print(\"    mu_a = %.3f/mm\" % ((1-a)*b/e.sample.sample_thickness))\n",
    "print(\"    g    = %.4f\" % g)\n",
    "print()\n",
    "\n",
    "e.illumination.num_spheres = 1\n",
    "a,b,g = e.invert()\n",
    "print(\"With num_spheres = %d\" % e.illumination.num_spheres)\n",
    "print(\"    mu_s = %.3f/mm\" % (a*b/e.sample.sample_thickness))\n",
    "print(\"    mu_a = %.3f/mm\" % ((1-a)*b/e.sample.sample_thickness))\n",
    "print(\"    g    = %.4f\" % g)\n",
    "print()\n",
    "\n",
    "e.illumination.num_spheres = 2\n",
    "a,b,g = e.invert()\n",
    "print(\"With num_spheres = %d\" % e.illumination.num_spheres)\n",
    "print(\"    mu_s = %.3f/mm\" % (a*b/e.sample.sample_thickness))\n",
    "print(\"    mu_a = %.3f/mm\" % ((1-a)*b/e.sample.sample_thickness))\n",
    "print(\"    g    = %.4f\" % g)\n",
    "print()"
   ]
  },
  {
   "cell_type": "code",
   "execution_count": null,
   "metadata": {},
   "outputs": [],
   "source": []
  }
 ],
 "metadata": {
  "kernelspec": {
   "display_name": "Python 3",
   "language": "python",
   "name": "python3"
  },
  "language_info": {
   "codemirror_mode": {
    "name": "ipython",
    "version": 3
   },
   "file_extension": ".py",
   "mimetype": "text/x-python",
   "name": "python",
   "nbconvert_exporter": "python",
   "pygments_lexer": "ipython3",
   "version": "3.9.5"
  }
 },
 "nbformat": 4,
 "nbformat_minor": 4
}
