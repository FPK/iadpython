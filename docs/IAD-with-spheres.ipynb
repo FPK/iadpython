{
 "cells": [
  {
   "cell_type": "markdown",
   "metadata": {},
   "source": [
    "# IAD with Spheres\n",
    "\n",
    "**Scott Prahl**\n",
    "\n",
    "**March 2019**\n",
    "\n",
    "**version 1**\n",
    "\n",
    "A series of functionality tests to validate implementation of the influence of spheres on the inverse radiative transfer problem."
   ]
  },
  {
   "cell_type": "code",
   "execution_count": 1,
   "metadata": {},
   "outputs": [],
   "source": [
    "import numpy as np\n",
    "import matplotlib.pyplot as plt\n",
    "import iadpython"
   ]
  },
  {
   "cell_type": "markdown",
   "metadata": {},
   "source": [
    "## Checking imports\n",
    "\n",
    "Basic sanity check to validate that module was imported"
   ]
  },
  {
   "cell_type": "code",
   "execution_count": 3,
   "metadata": {},
   "outputs": [
    {
     "name": "stdout",
     "output_type": "stream",
     "text": [
      "Help on package iadpython:\n",
      "\n",
      "NAME\n",
      "    iadpython\n",
      "\n",
      "PACKAGE CONTENTS\n",
      "    ad\n",
      "    combine\n",
      "    fresnel\n",
      "    iadc\n",
      "    perf_test\n",
      "    quadrature\n",
      "    redistribution\n",
      "    start\n",
      "    test_boundary\n",
      "    test_combo\n",
      "    test_fresnel\n",
      "    test_iadc\n",
      "    test_layer\n",
      "    test_quadrature\n",
      "    test_redistribution\n",
      "    test_start\n",
      "    test_ur1_uru\n",
      "\n",
      "DATA\n",
      "    AD_MAX_THICKNESS = 1000000.0\n",
      "\n",
      "FILE\n",
      "    /Users/prahl/Documents/Code/git/iadpython/iadpython/__init__.py\n",
      "\n",
      "\n"
     ]
    }
   ],
   "source": [
    "help(iadpython)"
   ]
  },
  {
   "cell_type": "markdown",
   "metadata": {},
   "source": [
    "## Verifying basic functionality of the objects"
   ]
  },
  {
   "cell_type": "code",
   "execution_count": 3,
   "metadata": {},
   "outputs": [
    {
     "name": "stdout",
     "output_type": "stream",
     "text": [
      "sample index           = 1.400\n",
      "top slide index        = 1.500\n",
      "bottom slide index     = 1.500\n",
      "sample thickness       = 1.0 mm\n",
      "top slide thickness    = 1.0 mm\n",
      "bottom slide thickness = 1.0 mm\n",
      "[1.4, 1.5, 1.5, 1, 1, 1]\n"
     ]
    }
   ],
   "source": [
    "ss = iadpython.Sample()\n",
    "print(ss)\n",
    "print(ss.as_array())"
   ]
  },
  {
   "cell_type": "code",
   "execution_count": 4,
   "metadata": {
    "scrolled": true
   },
   "outputs": [
    {
     "name": "stdout",
     "output_type": "stream",
     "text": [
      "sphere diameter        = 203.2 mm\n",
      "sample port diameter   = 25.4 mm\n",
      "entrance port diameter = 25.4 mm\n",
      "detector port diameter = 12.7 mm\n",
      "wall reflectivity      = 0.980\n",
      "detector reflectivity  = 0.050\n",
      "[203.2, 25.4, 25.4, 12.7, 0.98, 0.05]\n",
      "sphere diameter        = 152.4 mm\n",
      "sample port diameter   = 25.4 mm\n",
      "entrance port diameter = 25.4 mm\n",
      "detector port diameter = 12.7 mm\n",
      "wall reflectivity      = 0.980\n",
      "detector reflectivity  = 0.050\n",
      "[152.39999999999998, 25.4, 25.4, 12.7, 0.98, 0.05]\n"
     ]
    }
   ],
   "source": [
    "rs = iadpython.Sphere()\n",
    "ts = iadpython.Sphere()\n",
    "ts.d_sphere = 6 * 25.4\n",
    "\n",
    "print(rs)\n",
    "print(rs.as_array())\n",
    "print(ts)\n",
    "print(ts.as_array())"
   ]
  },
  {
   "cell_type": "code",
   "execution_count": 5,
   "metadata": {
    "scrolled": true
   },
   "outputs": [
    {
     "name": "stdout",
     "output_type": "stream",
     "text": [
      "diameter of beam       = 5.0 mm\n",
      "wavelength             = 632.8 nm\n",
      "exclude specular refl? = False\n",
      "exclude direct trans?  = False\n",
      "illumination diffuse?  = False\n",
      "number of spheres      = 0\n",
      "[5, 0, 0, 0, 632.8, 0]\n"
     ]
    }
   ],
   "source": [
    "ilum = iadpython.Illumination()\n",
    "print(ilum)\n",
    "print(ilum.as_array())"
   ]
  },
  {
   "cell_type": "code",
   "execution_count": 6,
   "metadata": {
    "scrolled": true
   },
   "outputs": [
    {
     "name": "stdout",
     "output_type": "stream",
     "text": [
      "standard reflectance   =  0.98000\n",
      "reflectance            =  0.50000\n",
      "transmittance          =  0.10000\n",
      "unscattered trans      =  0.00000\n",
      "\n",
      "[0.98, 0.5, 0.1, 0]\n"
     ]
    }
   ],
   "source": [
    "m = iadpython.Measurement()\n",
    "print(m)\n",
    "print(m.as_array())"
   ]
  },
  {
   "cell_type": "code",
   "execution_count": 7,
   "metadata": {},
   "outputs": [
    {
     "name": "stdout",
     "output_type": "stream",
     "text": [
      "quadrature points      = 8\n",
      "monte carlo runs       = 0\n",
      "number of photons      = 10000\n",
      "[8, 0, 10000]\n"
     ]
    }
   ],
   "source": [
    "aa = iadpython.Analysis()\n",
    "print(aa)\n",
    "print(aa.as_array())"
   ]
  },
  {
   "cell_type": "code",
   "execution_count": 8,
   "metadata": {},
   "outputs": [
    {
     "name": "stdout",
     "output_type": "stream",
     "text": [
      "e.sample.\n",
      "    sample index           = 1.400\n",
      "    top slide index        = 1.500\n",
      "    bottom slide index     = 1.500\n",
      "    sample thickness       = 1.0 mm\n",
      "    top slide thickness    = 1.0 mm\n",
      "    bottom slide thickness = 1.0 mm\n",
      "\n",
      "e.illumination.\n",
      "    diameter of beam       = 5.0 mm\n",
      "    wavelength             = 632.8 nm\n",
      "    exclude specular refl? = False\n",
      "    exclude direct trans?  = False\n",
      "    illumination diffuse?  = False\n",
      "    number of spheres      = 0\n",
      "\n",
      "e.r_sphere.\n",
      "    sphere diameter        = 203.2 mm\n",
      "    sample port diameter   = 25.4 mm\n",
      "    entrance port diameter = 25.4 mm\n",
      "    detector port diameter = 12.7 mm\n",
      "    wall reflectivity      = 0.980\n",
      "    detector reflectivity  = 0.050\n",
      "\n",
      "e.t_sphere.\n",
      "    sphere diameter        = 203.2 mm\n",
      "    sample port diameter   = 25.4 mm\n",
      "    entrance port diameter = 25.4 mm\n",
      "    detector port diameter = 12.7 mm\n",
      "    wall reflectivity      = 0.980\n",
      "    detector reflectivity  = 0.050\n",
      "\n",
      "e.analysis.\n",
      "    quadrature points      = 8\n",
      "    monte carlo runs       = 0\n",
      "    number of photons      = 10000\n",
      "\n",
      "e.measurement.\n",
      "    standard reflectance   =  0.98000\n",
      "    reflectance            =  0.50000\n",
      "    transmittance          =  0.10000\n",
      "    unscattered trans      =  0.00000\n",
      "    \n"
     ]
    }
   ],
   "source": [
    "e = iadpython.Experiment()\n",
    "print(e)"
   ]
  },
  {
   "cell_type": "markdown",
   "metadata": {},
   "source": [
    "## Testing the inversion process\n",
    "\n",
    "### First validate that changing one thing works"
   ]
  },
  {
   "cell_type": "code",
   "execution_count": 14,
   "metadata": {},
   "outputs": [
    {
     "name": "stdout",
     "output_type": "stream",
     "text": [
      "With num_spheres = 0\n",
      "    mu_s = 7.029/mm\n",
      "    mu_a = 0.176/mm\n",
      "    g    = 0.0000\n",
      "\n",
      "With num_spheres = 1\n",
      "    mu_s = 9.391/mm\n",
      "    mu_a = 0.144/mm\n",
      "    g    = 0.0000\n",
      "\n",
      "With num_spheres = 2\n",
      "    mu_s = 9.693/mm\n",
      "    mu_a = 0.151/mm\n",
      "    g    = 0.0000\n",
      "\n"
     ]
    }
   ],
   "source": [
    "e = iadpython.Experiment()\n",
    "a,b,g = e.invert()\n",
    "print(\"With num_spheres = %d\" % e.illumination.num_spheres)\n",
    "print(\"    mu_s = %.3f/mm\" % (a*b/e.sample.sample_thickness))\n",
    "print(\"    mu_a = %.3f/mm\" % ((1-a)*b/e.sample.sample_thickness))\n",
    "print(\"    g    = %.4f\" % g)\n",
    "print()\n",
    "\n",
    "e.illumination.num_spheres = 1\n",
    "a,b,g = e.invert()\n",
    "print(\"With num_spheres = %d\" % e.illumination.num_spheres)\n",
    "print(\"    mu_s = %.3f/mm\" % (a*b/e.sample.sample_thickness))\n",
    "print(\"    mu_a = %.3f/mm\" % ((1-a)*b/e.sample.sample_thickness))\n",
    "print(\"    g    = %.4f\" % g)\n",
    "print()\n",
    "\n",
    "e.illumination.num_spheres = 2\n",
    "a,b,g = e.invert()\n",
    "print(\"With num_spheres = %d\" % e.illumination.num_spheres)\n",
    "print(\"    mu_s = %.3f/mm\" % (a*b/e.sample.sample_thickness))\n",
    "print(\"    mu_a = %.3f/mm\" % ((1-a)*b/e.sample.sample_thickness))\n",
    "print(\"    g    = %.4f\" % g)\n",
    "print()"
   ]
  },
  {
   "cell_type": "code",
   "execution_count": null,
   "metadata": {},
   "outputs": [],
   "source": []
  }
 ],
 "metadata": {
  "kernelspec": {
   "display_name": "Python 3",
   "language": "python",
   "name": "python3"
  },
  "language_info": {
   "codemirror_mode": {
    "name": "ipython",
    "version": 3
   },
   "file_extension": ".py",
   "mimetype": "text/x-python",
   "name": "python",
   "nbconvert_exporter": "python",
   "pygments_lexer": "ipython3",
   "version": "3.7.6"
  }
 },
 "nbformat": 4,
 "nbformat_minor": 2
}
